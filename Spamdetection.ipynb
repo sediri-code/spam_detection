{
  "nbformat": 4,
  "nbformat_minor": 0,
  "metadata": {
    "colab": {
      "provenance": [],
      "authorship_tag": "ABX9TyMAY36+88/t2+a06mv2idBQ",
      "include_colab_link": true
    },
    "kernelspec": {
      "name": "python3",
      "display_name": "Python 3"
    },
    "language_info": {
      "name": "python"
    }
  },
  "cells": [
    {
      "cell_type": "markdown",
      "metadata": {
        "id": "view-in-github",
        "colab_type": "text"
      },
      "source": [
        "<a href=\"https://colab.research.google.com/github/sediri-code/spam_detection/blob/main/Spamdetection.ipynb\" target=\"_parent\"><img src=\"https://colab.research.google.com/assets/colab-badge.svg\" alt=\"Open In Colab\"/></a>"
      ]
    },
    {
      "cell_type": "code",
      "execution_count": 6,
      "metadata": {
        "id": "WOf2VAWvWf4L"
      },
      "outputs": [],
      "source": [
        "#numpy\n",
        "import numpy as np\n",
        "#change the current directory\n",
        "import os\n",
        "os.chdir(\"/content/sample_data/\")\n",
        "#importation of the corpus\n",
        "import pandas as pd\n",
        "\n",
        "# Use pd instead of pandas for the alias\n",
        "spams = pd.read_table(\"SMSSpamCollection.txt\", sep=\"\\t\", header=0)\n",
        "\n"
      ]
    },
    {
      "cell_type": "code",
      "source": [
        "#type of the object\n",
        "print(type(spams))\n",
        "#size of the dataset\n",
        "print(spams.shape)"
      ],
      "metadata": {
        "colab": {
          "base_uri": "https://localhost:8080/"
        },
        "id": "O4yKw_U8XfQe",
        "outputId": "1e18dac6-6203-4a4d-f998-1c2e542dea63"
      },
      "execution_count": 9,
      "outputs": [
        {
          "output_type": "stream",
          "name": "stdout",
          "text": [
            "<class 'pandas.core.frame.DataFrame'>\n",
            "(5572, 2)\n"
          ]
        }
      ]
    },
    {
      "cell_type": "code",
      "source": [
        "#list of columns\n",
        "print(spams.columns)\n",
        "#type of columns\n",
        "print(spams.dtypes)\n",
        "#description\n",
        "print(spams.describe())\n",
        "\n"
      ],
      "metadata": {
        "colab": {
          "base_uri": "https://localhost:8080/"
        },
        "id": "e1kA3sJsXpyE",
        "outputId": "fb2bd6c9-bef4-4220-89cf-303e6e4dec3e"
      },
      "execution_count": 12,
      "outputs": [
        {
          "output_type": "stream",
          "name": "stdout",
          "text": [
            "Index(['classe', 'message'], dtype='object')\n",
            "classe     object\n",
            "message    object\n",
            "dtype: object\n",
            "       classe                 message\n",
            "count    5572                    5572\n",
            "unique      2                    5169\n",
            "top       ham  Sorry, I'll call later\n",
            "freq     4825                      30\n"
          ]
        }
      ]
    },
    {
      "cell_type": "code",
      "source": [
        "crosstab_result = pd.crosstab(index=spams[\"classe\"], columns=\"count\")\n",
        "print(crosstab_result)"
      ],
      "metadata": {
        "colab": {
          "base_uri": "https://localhost:8080/"
        },
        "id": "Guk7u1tKX410",
        "outputId": "41f294b6-91d7-4179-87e2-a159157ffc69"
      },
      "execution_count": 14,
      "outputs": [
        {
          "output_type": "stream",
          "name": "stdout",
          "text": [
            "col_0   count\n",
            "classe       \n",
            "ham      4825\n",
            "spam      747\n"
          ]
        }
      ]
    },
    {
      "cell_type": "code",
      "source": [
        "from sklearn.model_selection import train_test_split\n",
        "import pandas as pd  # Import pandas with the alias pd\n",
        "\n",
        "# Splitting the dataset into train and test sets\n",
        "train_size = 3572  # The desired number of samples in the training set\n",
        "test_size = len(spams) - train_size  # The remaining samples go to the test set\n",
        "\n",
        "spamsTrain, spamsTest = train_test_split(spams, test_size=test_size, random_state=1, stratify=spams['classe'])\n",
        "\n",
        "# Frequency distribution of the class attribute for the training set\n",
        "freqTrain = pd.crosstab(index=spamsTrain[\"classe\"], columns=\"count\")\n",
        "print(freqTrain / freqTrain.sum())\n",
        "\n",
        "# Frequency distribution of the class attribute for the test set\n",
        "freqTest = pd.crosstab(index=spamsTest[\"classe\"], columns=\"count\")\n",
        "print(freqTest / freqTest.sum())\n"
      ],
      "metadata": {
        "colab": {
          "base_uri": "https://localhost:8080/"
        },
        "id": "eNlGaviGZOc0",
        "outputId": "a39c2c6c-03cd-4ddf-862d-6effcabb2514"
      },
      "execution_count": 16,
      "outputs": [
        {
          "output_type": "stream",
          "name": "stdout",
          "text": [
            "col_0      count\n",
            "classe          \n",
            "ham     0.865901\n",
            "spam    0.134099\n",
            "col_0   count\n",
            "classe       \n",
            "ham     0.866\n",
            "spam    0.134\n"
          ]
        }
      ]
    },
    {
      "cell_type": "code",
      "source": [
        "#import the CountVectorizer tool\n",
        "from sklearn.feature_extraction.text import CountVectorizer\n",
        "#instantiation of the objet – binary weighting\n",
        "parseur = CountVectorizer(binary=True)\n",
        "#create the document term matrix\n",
        "XTrain = parseur.fit_transform(spamsTrain['message'])"
      ],
      "metadata": {
        "id": "nqpcBUozZOh3"
      },
      "execution_count": 17,
      "outputs": []
    },
    {
      "cell_type": "code",
      "source": [
        "from sklearn.feature_extraction.text import CountVectorizer\n",
        "tokens = parseur.get_feature_names_out()  # To get the list of tokens\n",
        "num_tokens = len(tokens)  # To get the number of tokens\n",
        "\n",
        "print(\"Number of tokens:\", num_tokens)\n",
        "print(\"List of tokens:\", tokens)"
      ],
      "metadata": {
        "colab": {
          "base_uri": "https://localhost:8080/"
        },
        "id": "INdCA-lTZOkU",
        "outputId": "06fc1d41-6934-4528-9942-b337b82d0443"
      },
      "execution_count": 20,
      "outputs": [
        {
          "output_type": "stream",
          "name": "stdout",
          "text": [
            "Number of tokens: 6789\n",
            "List of tokens: ['00' '000' '000pes' ... 'zouk' 'zyada' '〨ud']\n"
          ]
        }
      ]
    },
    {
      "cell_type": "code",
      "source": [
        "#transform the sparse matrix into a numpy matrix\n",
        "mdtTrain = XTrain.toarray()\n",
        "#type of the matrix\n",
        "print(type(mdtTrain))\n",
        "#size of the matrix\n",
        "print(mdtTrain.shape)"
      ],
      "metadata": {
        "colab": {
          "base_uri": "https://localhost:8080/"
        },
        "id": "tOpma7xwZOn5",
        "outputId": "2c90dd42-191f-4fe6-9ca6-1a06a4feae6f"
      },
      "execution_count": 21,
      "outputs": [
        {
          "output_type": "stream",
          "name": "stdout",
          "text": [
            "<class 'numpy.ndarray'>\n",
            "(3572, 6789)\n"
          ]
        }
      ]
    },
    {
      "cell_type": "code",
      "source": [
        "freq_mots = np.sum(mdtTrain, axis=0)\n",
        "\n",
        "# Sort the indices of terms by term frequencies\n",
        "index = np.argsort(freq_mots)\n",
        "\n",
        "# Get the terms and their frequencies, and create a DataFrame\n",
        "term_names = np.asarray(parseur.get_feature_names_out())[index]\n",
        "term_frequencies = freq_mots[index]\n",
        "df = pd.DataFrame({'terme': term_names, 'freq': term_frequencies})\n",
        "\n",
        "# Print the DataFrame\n",
        "print(df)"
      ],
      "metadata": {
        "colab": {
          "base_uri": "https://localhost:8080/"
        },
        "id": "f9--Z2H4dKAi",
        "outputId": "c305829e-446e-48f6-af01-f83a165405ca"
      },
      "execution_count": 23,
      "outputs": [
        {
          "output_type": "stream",
          "name": "stdout",
          "text": [
            "         terme  freq\n",
            "0        kaiez     1\n",
            "1         mary     1\n",
            "2     marriage     1\n",
            "3         maps     1\n",
            "4       manual     1\n",
            "...        ...   ...\n",
            "6784       and   522\n",
            "6785        in   528\n",
            "6786       the   647\n",
            "6787       you  1042\n",
            "6788        to  1091\n",
            "\n",
            "[6789 rows x 2 columns]\n"
          ]
        }
      ]
    },
    {
      "cell_type": "code",
      "source": [
        "#import the class LogistiRegression\n",
        "from sklearn.linear_model import LogisticRegression\n",
        "#instatiate the object\n",
        "modelFirst = LogisticRegression()\n",
        "#perform the training process\n",
        "modelFirst.fit(mdtTrain,spamsTrain['classe'])"
      ],
      "metadata": {
        "colab": {
          "base_uri": "https://localhost:8080/",
          "height": 74
        },
        "id": "omuxaclRdKDK",
        "outputId": "a0232770-e01b-488c-97f5-6ae62a3c64a4"
      },
      "execution_count": 24,
      "outputs": [
        {
          "output_type": "execute_result",
          "data": {
            "text/plain": [
              "LogisticRegression()"
            ],
            "text/html": [
              "<style>#sk-container-id-1 {color: black;background-color: white;}#sk-container-id-1 pre{padding: 0;}#sk-container-id-1 div.sk-toggleable {background-color: white;}#sk-container-id-1 label.sk-toggleable__label {cursor: pointer;display: block;width: 100%;margin-bottom: 0;padding: 0.3em;box-sizing: border-box;text-align: center;}#sk-container-id-1 label.sk-toggleable__label-arrow:before {content: \"▸\";float: left;margin-right: 0.25em;color: #696969;}#sk-container-id-1 label.sk-toggleable__label-arrow:hover:before {color: black;}#sk-container-id-1 div.sk-estimator:hover label.sk-toggleable__label-arrow:before {color: black;}#sk-container-id-1 div.sk-toggleable__content {max-height: 0;max-width: 0;overflow: hidden;text-align: left;background-color: #f0f8ff;}#sk-container-id-1 div.sk-toggleable__content pre {margin: 0.2em;color: black;border-radius: 0.25em;background-color: #f0f8ff;}#sk-container-id-1 input.sk-toggleable__control:checked~div.sk-toggleable__content {max-height: 200px;max-width: 100%;overflow: auto;}#sk-container-id-1 input.sk-toggleable__control:checked~label.sk-toggleable__label-arrow:before {content: \"▾\";}#sk-container-id-1 div.sk-estimator input.sk-toggleable__control:checked~label.sk-toggleable__label {background-color: #d4ebff;}#sk-container-id-1 div.sk-label input.sk-toggleable__control:checked~label.sk-toggleable__label {background-color: #d4ebff;}#sk-container-id-1 input.sk-hidden--visually {border: 0;clip: rect(1px 1px 1px 1px);clip: rect(1px, 1px, 1px, 1px);height: 1px;margin: -1px;overflow: hidden;padding: 0;position: absolute;width: 1px;}#sk-container-id-1 div.sk-estimator {font-family: monospace;background-color: #f0f8ff;border: 1px dotted black;border-radius: 0.25em;box-sizing: border-box;margin-bottom: 0.5em;}#sk-container-id-1 div.sk-estimator:hover {background-color: #d4ebff;}#sk-container-id-1 div.sk-parallel-item::after {content: \"\";width: 100%;border-bottom: 1px solid gray;flex-grow: 1;}#sk-container-id-1 div.sk-label:hover label.sk-toggleable__label {background-color: #d4ebff;}#sk-container-id-1 div.sk-serial::before {content: \"\";position: absolute;border-left: 1px solid gray;box-sizing: border-box;top: 0;bottom: 0;left: 50%;z-index: 0;}#sk-container-id-1 div.sk-serial {display: flex;flex-direction: column;align-items: center;background-color: white;padding-right: 0.2em;padding-left: 0.2em;position: relative;}#sk-container-id-1 div.sk-item {position: relative;z-index: 1;}#sk-container-id-1 div.sk-parallel {display: flex;align-items: stretch;justify-content: center;background-color: white;position: relative;}#sk-container-id-1 div.sk-item::before, #sk-container-id-1 div.sk-parallel-item::before {content: \"\";position: absolute;border-left: 1px solid gray;box-sizing: border-box;top: 0;bottom: 0;left: 50%;z-index: -1;}#sk-container-id-1 div.sk-parallel-item {display: flex;flex-direction: column;z-index: 1;position: relative;background-color: white;}#sk-container-id-1 div.sk-parallel-item:first-child::after {align-self: flex-end;width: 50%;}#sk-container-id-1 div.sk-parallel-item:last-child::after {align-self: flex-start;width: 50%;}#sk-container-id-1 div.sk-parallel-item:only-child::after {width: 0;}#sk-container-id-1 div.sk-dashed-wrapped {border: 1px dashed gray;margin: 0 0.4em 0.5em 0.4em;box-sizing: border-box;padding-bottom: 0.4em;background-color: white;}#sk-container-id-1 div.sk-label label {font-family: monospace;font-weight: bold;display: inline-block;line-height: 1.2em;}#sk-container-id-1 div.sk-label-container {text-align: center;}#sk-container-id-1 div.sk-container {/* jupyter's `normalize.less` sets `[hidden] { display: none; }` but bootstrap.min.css set `[hidden] { display: none !important; }` so we also need the `!important` here to be able to override the default hidden behavior on the sphinx rendered scikit-learn.org. See: https://github.com/scikit-learn/scikit-learn/issues/21755 */display: inline-block !important;position: relative;}#sk-container-id-1 div.sk-text-repr-fallback {display: none;}</style><div id=\"sk-container-id-1\" class=\"sk-top-container\"><div class=\"sk-text-repr-fallback\"><pre>LogisticRegression()</pre><b>In a Jupyter environment, please rerun this cell to show the HTML representation or trust the notebook. <br />On GitHub, the HTML representation is unable to render, please try loading this page with nbviewer.org.</b></div><div class=\"sk-container\" hidden><div class=\"sk-item\"><div class=\"sk-estimator sk-toggleable\"><input class=\"sk-toggleable__control sk-hidden--visually\" id=\"sk-estimator-id-1\" type=\"checkbox\" checked><label for=\"sk-estimator-id-1\" class=\"sk-toggleable__label sk-toggleable__label-arrow\">LogisticRegression</label><div class=\"sk-toggleable__content\"><pre>LogisticRegression()</pre></div></div></div></div></div>"
            ]
          },
          "metadata": {},
          "execution_count": 24
        }
      ]
    },
    {
      "cell_type": "code",
      "source": [
        "#size of coefficients matrix\n",
        "print(modelFirst.coef_.shape)\n",
        "#intercept of the model\n",
        "print(modelFirst.intercept_)"
      ],
      "metadata": {
        "colab": {
          "base_uri": "https://localhost:8080/"
        },
        "id": "LwcyYSe3dKFe",
        "outputId": "5864713c-52a0-4244-a6bd-21af8866bbab"
      },
      "execution_count": 26,
      "outputs": [
        {
          "output_type": "stream",
          "name": "stdout",
          "text": [
            "(1, 6789)\n",
            "[-4.9643061]\n"
          ]
        }
      ]
    },
    {
      "cell_type": "code",
      "source": [
        "#create the document term matrix\n",
        "mdtTest = parseur.transform(spamsTest['message'])\n",
        "#size of the matrix\n",
        "print(mdtTest.shape)"
      ],
      "metadata": {
        "colab": {
          "base_uri": "https://localhost:8080/"
        },
        "id": "ao7EOPKGdKI9",
        "outputId": "66720bda-1831-465f-8194-18e973cd86dc"
      },
      "execution_count": 27,
      "outputs": [
        {
          "output_type": "stream",
          "name": "stdout",
          "text": [
            "(2000, 6789)\n"
          ]
        }
      ]
    },
    {
      "cell_type": "code",
      "source": [
        "#prediction for the test set\n",
        "predTest = modelFirst.predict(mdtTest)"
      ],
      "metadata": {
        "id": "ZHRiRjMveKPw"
      },
      "execution_count": 28,
      "outputs": []
    },
    {
      "cell_type": "code",
      "source": [
        "#import the metrics class for the performance measurement\n",
        "from sklearn import metrics\n",
        "#confusion matrix\n",
        "mcTest = metrics.confusion_matrix(spamsTest['classe'],predTest)\n",
        "print(mcTest)\n",
        "#recall\n",
        "print(metrics.recall_score(spamsTest['classe'],predTest,pos_label='spam'))\n",
        "#precision\n",
        "print(metrics.precision_score(spamsTest['classe'],predTest,pos_label='spam'))\n",
        "#F1-Score\n",
        "print(metrics.f1_score(spamsTest['classe'],predTest,pos_label='spam'))\n",
        "#accuracy rate\n",
        "print(metrics.accuracy_score(spamsTest['classe'],predTest))"
      ],
      "metadata": {
        "colab": {
          "base_uri": "https://localhost:8080/"
        },
        "id": "lI6hZm-xeKSP",
        "outputId": "233aea6d-f0db-4c33-b77e-cf1f3477d784"
      },
      "execution_count": 29,
      "outputs": [
        {
          "output_type": "stream",
          "name": "stdout",
          "text": [
            "[[1731    1]\n",
            " [  40  228]]\n",
            "0.8507462686567164\n",
            "0.9956331877729258\n",
            "0.9175050301810864\n",
            "0.9795\n"
          ]
        }
      ]
    },
    {
      "cell_type": "code",
      "source": [
        "from sklearn.feature_extraction.text import CountVectorizer\n",
        "from sklearn.linear_model import LogisticRegression\n",
        "\n",
        "# Create a new CountVectorizer with the specified options\n",
        "parseurBis = CountVectorizer(stop_words='english', binary=True, min_df=10)\n",
        "\n",
        "# Fit the new CountVectorizer on the training data and transform it into a document-term matrix\n",
        "XTrainBis = parseurBis.fit_transform(spamsTrain['message'])\n",
        "\n",
        "# Get the number of tokens\n",
        "num_tokens = len(parseurBis.get_feature_names_out())\n",
        "\n",
        "# Instantiate the LogisticRegression model\n",
        "modelBis = LogisticRegression()\n"
      ],
      "metadata": {
        "id": "xIhPrXtueKVf"
      },
      "execution_count": 31,
      "outputs": []
    },
    {
      "cell_type": "code",
      "source": [
        "# Create the document-term matrix for the training set\n",
        "mdtTrainBis = parseurBis.transform(spamsTrain['message'])\n",
        "\n",
        "# Perform the training process\n",
        "modelBis.fit(mdtTrainBis, spamsTrain['classe'])\n",
        "\n",
        "# Create the document-term matrix for the test set\n",
        "mdtTestBis = parseurBis.transform(spamsTest['message'])\n",
        "\n",
        "# Make predictions for the test set\n",
        "predTestBis = modelBis.predict(mdtTestBis)\n",
        "\n",
        "# Import necessary metrics library\n",
        "from sklearn import metrics\n",
        "\n",
        "# Confusion matrix\n",
        "mcTestBis = metrics.confusion_matrix(spamsTest['classe'], predTestBis)\n",
        "print(\"Confusion Matrix:\\n\", mcTestBis)\n",
        "\n",
        "# Recall\n",
        "recall = metrics.recall_score(spamsTest['classe'], predTestBis, pos_label='spam')\n",
        "print(\"Recall (True Positive Rate):\", recall)\n",
        "\n",
        "# Precision\n",
        "precision = metrics.precision_score(spamsTest['classe'], predTestBis, pos_label='spam')\n",
        "print(\"Precision:\", precision)\n",
        "\n",
        "# F1-Score\n",
        "f1_score = metrics.f1_score(spamsTest['classe'], predTestBis, pos_label='spam')\n",
        "print(\"F1-Score:\", f1_score)\n",
        "\n",
        "# Accuracy Rate\n",
        "accuracy = metrics.accuracy_score(spamsTest['classe'], predTestBis)\n",
        "print(\"Accuracy:\", accuracy)\n"
      ],
      "metadata": {
        "colab": {
          "base_uri": "https://localhost:8080/"
        },
        "id": "7SSmV0xkeKZq",
        "outputId": "16ccdc9a-13b9-48b4-d253-858aa96de7b5"
      },
      "execution_count": 35,
      "outputs": [
        {
          "output_type": "stream",
          "name": "stdout",
          "text": [
            "Confusion Matrix:\n",
            " [[1731    1]\n",
            " [  37  231]]\n",
            "Recall (True Positive Rate): 0.8619402985074627\n",
            "Precision: 0.9956896551724138\n",
            "F1-Score: 0.9239999999999999\n",
            "Accuracy: 0.981\n"
          ]
        }
      ]
    },
    {
      "cell_type": "code",
      "source": [
        "#absolute value of the coefficients\n",
        "coef_abs = np.abs(modelBis.coef_[0,:])\n",
        "#percentiles of the coefficients (absolute value)\n",
        "thresholds = np.percentile(coef_abs,[0,25,50,75,90,100])\n",
        "print(thresholds)"
      ],
      "metadata": {
        "colab": {
          "base_uri": "https://localhost:8080/"
        },
        "id": "C3Ct8taceKcd",
        "outputId": "772bac81-fb1a-4743-9198-d33639ffb2ea"
      },
      "execution_count": 36,
      "outputs": [
        {
          "output_type": "stream",
          "name": "stdout",
          "text": [
            "[2.37540153e-03 1.77540082e-01 2.95911402e-01 6.09779140e-01\n",
            " 1.05613226e+00 2.73460362e+00]\n"
          ]
        }
      ]
    },
    {
      "cell_type": "code",
      "source": [
        "#identify the coefficients \"significantly\" higher than zero\n",
        "#use 1st quartile as threshold\n",
        "indices = np.where(coef_abs > thresholds[1])\n",
        "print(len(indices[0]))"
      ],
      "metadata": {
        "colab": {
          "base_uri": "https://localhost:8080/"
        },
        "id": "V8D_xv5teKfd",
        "outputId": "2cddcfad-d110-4977-ba58-21554b63bb70"
      },
      "execution_count": 37,
      "outputs": [
        {
          "output_type": "stream",
          "name": "stdout",
          "text": [
            "405\n"
          ]
        }
      ]
    },
    {
      "cell_type": "code",
      "source": [
        "#train and test sets\n",
        "mdtTrainTer = mdtTrainBis[:,indices[0]]\n",
        "mdtTestTer = mdtTestBis[:,indices[0]]\n",
        "#checking\n",
        "print(mdtTrainTer.shape)\n",
        "print(mdtTestTer.shape)"
      ],
      "metadata": {
        "colab": {
          "base_uri": "https://localhost:8080/"
        },
        "id": "roNSfaVpeKiE",
        "outputId": "035a9429-2619-4b92-8a28-13a00cc8a384"
      },
      "execution_count": 38,
      "outputs": [
        {
          "output_type": "stream",
          "name": "stdout",
          "text": [
            "(3572, 405)\n",
            "(2000, 405)\n"
          ]
        }
      ]
    },
    {
      "cell_type": "code",
      "source": [
        "#instatiate the object\n",
        "modelTer = LogisticRegression()\n",
        "#train a new classifier with selected terms\n",
        "modelTer.fit(mdtTrainTer,spamsTrain['classe'])\n",
        "#prediction on the test set\n",
        "predTestTer = modelTer.predict(mdtTestTer)\n",
        "#confusion matrix\n",
        "mcTestTer = metrics.confusion_matrix(spamsTest['classe'],predTestTer)\n",
        "print(mcTestTer)\n",
        "#recall\n",
        "print(metrics.recall_score(spamsTest['classe'],predTestTer,pos_label='spam'))\n",
        "#precision\n",
        "print(metrics.precision_score(spamsTest['classe'],predTestTer,pos_label='spam'))\n",
        "#F1-Score\n",
        "print(metrics.f1_score(spamsTest['classe'],predTestTer,pos_label='spam'))\n",
        "#accuracy rate\n",
        "print(metrics.accuracy_score(spamsTest['classe'],predTestTer))"
      ],
      "metadata": {
        "colab": {
          "base_uri": "https://localhost:8080/"
        },
        "id": "7pZqTA8geKku",
        "outputId": "25c0f7b5-4b2b-45fd-f764-3fdfe1ca1e43"
      },
      "execution_count": 39,
      "outputs": [
        {
          "output_type": "stream",
          "name": "stdout",
          "text": [
            "[[1731    1]\n",
            " [  37  231]]\n",
            "0.8619402985074627\n",
            "0.9956896551724138\n",
            "0.9239999999999999\n",
            "0.981\n"
          ]
        }
      ]
    },
    {
      "cell_type": "code",
      "source": [
        "# Assuming you want to select and sort terms based on the modelBis\n",
        "# Replace modelTer with modelBis in your code\n",
        "\n",
        "# Sorted indices of the absolute value coefficients\n",
        "sorted_indices = np.argsort(np.abs(modelBis.coef_[0, :]))\n",
        "\n",
        "# Selected terms based on the sorted indices\n",
        "sel_terms = np.array(parseurBis.get_feature_names_out())[sorted_indices]\n",
        "\n",
        "# Terms and their coefficients\n",
        "term_coefficients = modelBis.coef_[0, :][sorted_indices]\n",
        "\n",
        "# Create a DataFrame with terms and their coefficients\n",
        "term_coef_df = pd.DataFrame({'term': sel_terms, 'coef': term_coefficients})\n",
        "\n",
        "print(term_coef_df)\n"
      ],
      "metadata": {
        "colab": {
          "base_uri": "https://localhost:8080/"
        },
        "id": "Oo3eGI4LeKoQ",
        "outputId": "2db19705-afbc-4dea-d433-00398a87649b"
      },
      "execution_count": 41,
      "outputs": [
        {
          "output_type": "stream",
          "name": "stdout",
          "text": [
            "        term      coef\n",
            "0       year -0.002375\n",
            "1       stay -0.009559\n",
            "2       just -0.012587\n",
            "3      press -0.017661\n",
            "4         bt -0.020953\n",
            "..       ...       ...\n",
            "536      new  2.036576\n",
            "537     150p  2.059258\n",
            "538  service  2.202718\n",
            "539    claim  2.257584\n",
            "540       uk  2.734604\n",
            "\n",
            "[541 rows x 2 columns]\n"
          ]
        }
      ]
    },
    {
      "cell_type": "code",
      "source": [
        "#document to classify\n",
        "doc = ['this is a new free service for you only']\n",
        "#get its description\n",
        "desc = parseurBis.transform(doc)\n",
        "print(desc)"
      ],
      "metadata": {
        "colab": {
          "base_uri": "https://localhost:8080/"
        },
        "id": "9DS0NVnvgKM0",
        "outputId": "475f1b01-b415-45ad-b7bc-c5ee164750af"
      },
      "execution_count": 42,
      "outputs": [
        {
          "output_type": "stream",
          "name": "stdout",
          "text": [
            "  (0, 166)\t1\n",
            "  (0, 315)\t1\n",
            "  (0, 405)\t1\n"
          ]
        }
      ]
    },
    {
      "cell_type": "code",
      "source": [
        "# Assuming you have a list of valid integer indices in 'selected_indices'\n",
        "selected_indices = [0, 1, 2, 3, 4]  # Replace with your actual integer indices\n",
        "\n",
        "# Retrieve the terms based on the selected indices\n",
        "selected_terms = np.array(parseurBis.get_feature_names_out())[selected_indices]\n",
        "\n",
        "# Print the selected terms\n",
        "print(selected_terms)\n",
        "\n"
      ],
      "metadata": {
        "colab": {
          "base_uri": "https://localhost:8080/"
        },
        "id": "8Y8Rr8I8gPXZ",
        "outputId": "3a75f762-c48d-43b3-ebb8-9e02431b828a"
      },
      "execution_count": 45,
      "outputs": [
        {
          "output_type": "stream",
          "name": "stdout",
          "text": [
            "['000' '08000839402' '10' '100' '1000']\n"
          ]
        }
      ]
    },
    {
      "cell_type": "code",
      "source": [
        "#dense representation\n",
        "dense_desc = desc.toarray()\n",
        "#apply var. selection\n",
        "dense_sel = dense_desc[:,indices[0]]"
      ],
      "metadata": {
        "id": "m8FHpnTBggHM"
      },
      "execution_count": 46,
      "outputs": []
    },
    {
      "cell_type": "code",
      "source": [
        "#prediction of the class membership\n",
        "pred_doc = modelTer.predict(dense_sel)\n",
        "print(pred_doc)"
      ],
      "metadata": {
        "colab": {
          "base_uri": "https://localhost:8080/"
        },
        "id": "gU0hyWVSgjkm",
        "outputId": "6e406489-b661-4536-cac5-fe4d153fa091"
      },
      "execution_count": 47,
      "outputs": [
        {
          "output_type": "stream",
          "name": "stdout",
          "text": [
            "['spam']\n"
          ]
        }
      ]
    },
    {
      "cell_type": "code",
      "source": [
        "#prediction of the class membership probabilities\n",
        "pred_proba = modelTer.predict_proba(dense_sel)\n",
        "print(pred_proba)"
      ],
      "metadata": {
        "colab": {
          "base_uri": "https://localhost:8080/"
        },
        "id": "mK2yIWHogoLG",
        "outputId": "2890f974-4a22-47d1-c163-bcee4d73f707"
      },
      "execution_count": 48,
      "outputs": [
        {
          "output_type": "stream",
          "name": "stdout",
          "text": [
            "[[0.07816085 0.92183915]]\n"
          ]
        }
      ]
    },
    {
      "cell_type": "code",
      "source": [
        "#checking - logit\n",
        "logit = 1.823208 + 1.999089 + 2.201104 + modelTer.intercept_\n",
        "#probability – logistic function\n",
        "import math\n",
        "p_spam = 1/(1+math.exp(-logit))\n",
        "print(p_spam)"
      ],
      "metadata": {
        "colab": {
          "base_uri": "https://localhost:8080/"
        },
        "id": "9ACrYJ_pgpsr",
        "outputId": "a2c519d4-6588-453e-ef8c-45af672e0ab9"
      },
      "execution_count": 49,
      "outputs": [
        {
          "output_type": "stream",
          "name": "stdout",
          "text": [
            "0.9141017335167014\n"
          ]
        }
      ]
    },
    {
      "cell_type": "code",
      "source": [],
      "metadata": {
        "id": "EH4SsRb9gtHh"
      },
      "execution_count": null,
      "outputs": []
    }
  ]
}